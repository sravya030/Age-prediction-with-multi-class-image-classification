{
 "cells": [
  {
   "cell_type": "code",
   "execution_count": 3,
   "metadata": {
    "id": "l_rgua3L0eYG"
   },
   "outputs": [],
   "source": [
    "train1 = np.load(\"canny_features_age_train.npy\")\n",
    "test1 = np.load(\"canny_features_age_test.npy\")"
   ]
  },
  {
   "cell_type": "code",
   "execution_count": 2,
   "metadata": {},
   "outputs": [],
   "source": [
    "import os\n",
    "import numpy as np\n",
    "import pandas as pd\n",
    "%matplotlib inline\n",
    "import matplotlib.pyplot as plt\n",
    "import shutil\n",
    "import random\n",
    "from sklearn.metrics import confusion_matrix\n",
    "import cv2"
   ]
  },
  {
   "cell_type": "code",
   "execution_count": 4,
   "metadata": {
    "id": "M8xZrm5N01kg"
   },
   "outputs": [],
   "source": [
    "def class_labels(age):\n",
    "    if 1 <= age <= 4:\n",
    "        return 0\n",
    "    elif 5 <= age <= 11:\n",
    "        return 1\n",
    "    elif 12 <= age <= 18:\n",
    "        return 2\n",
    "    elif 19 <= age <= 34:\n",
    "        return 3\n",
    "    elif 35 <= age <= 44:\n",
    "        return 4\n",
    "    elif 45 <= age <= 64:\n",
    "        return 5\n",
    "    else:\n",
    "        return 6"
   ]
  },
  {
   "cell_type": "code",
   "execution_count": 5,
   "metadata": {
    "id": "CZvUFMkB04Hy"
   },
   "outputs": [
    {
     "data": {
      "text/html": [
       "<div>\n",
       "<style scoped>\n",
       "    .dataframe tbody tr th:only-of-type {\n",
       "        vertical-align: middle;\n",
       "    }\n",
       "\n",
       "    .dataframe tbody tr th {\n",
       "        vertical-align: top;\n",
       "    }\n",
       "\n",
       "    .dataframe thead th {\n",
       "        text-align: right;\n",
       "    }\n",
       "</style>\n",
       "<table border=\"1\" class=\"dataframe\">\n",
       "  <thead>\n",
       "    <tr style=\"text-align: right;\">\n",
       "      <th></th>\n",
       "      <th>canny_edge_features</th>\n",
       "    </tr>\n",
       "  </thead>\n",
       "  <tbody>\n",
       "    <tr>\n",
       "      <th>0</th>\n",
       "      <td>sec1_mean</td>\n",
       "    </tr>\n",
       "    <tr>\n",
       "      <th>1</th>\n",
       "      <td>sec1_std</td>\n",
       "    </tr>\n",
       "    <tr>\n",
       "      <th>2</th>\n",
       "      <td>sec2_mean</td>\n",
       "    </tr>\n",
       "    <tr>\n",
       "      <th>3</th>\n",
       "      <td>sec2_std</td>\n",
       "    </tr>\n",
       "    <tr>\n",
       "      <th>4</th>\n",
       "      <td>sec3_mean</td>\n",
       "    </tr>\n",
       "    <tr>\n",
       "      <th>...</th>\n",
       "      <td>...</td>\n",
       "    </tr>\n",
       "    <tr>\n",
       "      <th>796</th>\n",
       "      <td>sec399_mean</td>\n",
       "    </tr>\n",
       "    <tr>\n",
       "      <th>797</th>\n",
       "      <td>sec399_std</td>\n",
       "    </tr>\n",
       "    <tr>\n",
       "      <th>798</th>\n",
       "      <td>sec400_mean</td>\n",
       "    </tr>\n",
       "    <tr>\n",
       "      <th>799</th>\n",
       "      <td>sec400_std</td>\n",
       "    </tr>\n",
       "    <tr>\n",
       "      <th>800</th>\n",
       "      <td>age</td>\n",
       "    </tr>\n",
       "  </tbody>\n",
       "</table>\n",
       "<p>801 rows × 1 columns</p>\n",
       "</div>"
      ],
      "text/plain": [
       "    canny_edge_features\n",
       "0             sec1_mean\n",
       "1              sec1_std\n",
       "2             sec2_mean\n",
       "3              sec2_std\n",
       "4             sec3_mean\n",
       "..                  ...\n",
       "796         sec399_mean\n",
       "797          sec399_std\n",
       "798         sec400_mean\n",
       "799          sec400_std\n",
       "800                 age\n",
       "\n",
       "[801 rows x 1 columns]"
      ]
     },
     "execution_count": 5,
     "metadata": {},
     "output_type": "execute_result"
    }
   ],
   "source": [
    "feature_names = pd.read_csv(\"canny_features_names.csv\")\n",
    "feature_names"
   ]
  },
  {
   "cell_type": "code",
   "execution_count": 6,
   "metadata": {
    "id": "cO6yzeAB04LY"
   },
   "outputs": [],
   "source": [
    "train_df1 = pd.DataFrame(train1, columns=feature_names[\"canny_edge_features\"])\n",
    "test_df1 = pd.DataFrame(test1, columns=feature_names[\"canny_edge_features\"])\n"
   ]
  },
  {
   "cell_type": "code",
   "execution_count": 145,
   "metadata": {},
   "outputs": [],
   "source": [
    "cor_matrix = train_df1.corr().abs()"
   ]
  },
  {
   "cell_type": "code",
   "execution_count": 146,
   "metadata": {},
   "outputs": [],
   "source": [
    "upper_tri = cor_matrix.where(np.triu(np.ones(cor_matrix.shape),k=1).astype(bool))"
   ]
  },
  {
   "cell_type": "code",
   "execution_count": 147,
   "metadata": {},
   "outputs": [],
   "source": [
    "to_drop = [column for column in upper_tri.columns if any(upper_tri[column] > 0.9)]"
   ]
  },
  {
   "cell_type": "code",
   "execution_count": 148,
   "metadata": {},
   "outputs": [
    {
     "name": "stdout",
     "output_type": "stream",
     "text": [
      "['sec1_std', 'sec2_std', 'sec3_std', 'sec4_std', 'sec5_std', 'sec6_std', 'sec7_std', 'sec8_std', 'sec9_std', 'sec10_std', 'sec11_std', 'sec12_std', 'sec13_std', 'sec14_std', 'sec15_std', 'sec16_std', 'sec17_std', 'sec18_std', 'sec19_std', 'sec20_std', 'sec21_std', 'sec22_std', 'sec23_std', 'sec24_std', 'sec25_std', 'sec26_std', 'sec27_std', 'sec28_std', 'sec29_std', 'sec30_std', 'sec31_std', 'sec32_std', 'sec33_std', 'sec34_std', 'sec35_std', 'sec36_std', 'sec37_std', 'sec38_std', 'sec39_std', 'sec40_std', 'sec41_std', 'sec42_std', 'sec43_std', 'sec44_std', 'sec45_std', 'sec46_std', 'sec47_std', 'sec48_std', 'sec49_std', 'sec50_std', 'sec51_std', 'sec52_std', 'sec53_std', 'sec54_std', 'sec55_std', 'sec56_std', 'sec57_std', 'sec58_std', 'sec59_std', 'sec60_std', 'sec61_std', 'sec62_std', 'sec63_std', 'sec64_std', 'sec65_std', 'sec66_std', 'sec67_std', 'sec68_std', 'sec69_std', 'sec70_std', 'sec71_std', 'sec72_std', 'sec73_std', 'sec74_std', 'sec75_std', 'sec76_std', 'sec77_std', 'sec78_std', 'sec79_std', 'sec80_std', 'sec81_std', 'sec82_std', 'sec83_std', 'sec84_std', 'sec85_std', 'sec86_std', 'sec87_std', 'sec88_std', 'sec89_std', 'sec90_std', 'sec91_std', 'sec92_std', 'sec93_std', 'sec94_std', 'sec95_std', 'sec96_std', 'sec97_std', 'sec98_std', 'sec99_std', 'sec100_std', 'sec101_std', 'sec102_std', 'sec103_std', 'sec104_std', 'sec105_std', 'sec106_std', 'sec107_std', 'sec108_std', 'sec109_std', 'sec110_std', 'sec111_std', 'sec112_std', 'sec113_std', 'sec114_std', 'sec115_std', 'sec116_std', 'sec117_std', 'sec118_std', 'sec119_std', 'sec120_std', 'sec121_std', 'sec122_std', 'sec123_std', 'sec124_std', 'sec125_std', 'sec126_std', 'sec127_std', 'sec128_std', 'sec129_std', 'sec130_std', 'sec131_std', 'sec132_std', 'sec133_std', 'sec134_std', 'sec135_std', 'sec136_std', 'sec137_std', 'sec138_std', 'sec139_std', 'sec140_std', 'sec141_std', 'sec142_std', 'sec143_std', 'sec144_std', 'sec145_std', 'sec146_std', 'sec147_std', 'sec148_std', 'sec149_std', 'sec150_std', 'sec151_std', 'sec152_std', 'sec153_std', 'sec154_std', 'sec155_std', 'sec156_std', 'sec157_std', 'sec158_std', 'sec159_std', 'sec160_std', 'sec161_std', 'sec162_std', 'sec163_std', 'sec164_std', 'sec165_std', 'sec166_std', 'sec167_std', 'sec168_std', 'sec169_std', 'sec170_std', 'sec171_std', 'sec172_std', 'sec173_std', 'sec174_std', 'sec175_std', 'sec176_std', 'sec177_std', 'sec178_std', 'sec179_std', 'sec180_std', 'sec181_std', 'sec182_std', 'sec183_std', 'sec184_std', 'sec185_std', 'sec186_std', 'sec187_std', 'sec188_std', 'sec189_std', 'sec190_std', 'sec191_std', 'sec192_std', 'sec193_std', 'sec194_std', 'sec195_std', 'sec196_std', 'sec197_std', 'sec198_std', 'sec199_std', 'sec200_std', 'sec201_std', 'sec202_std', 'sec203_std', 'sec204_std', 'sec205_std', 'sec206_std', 'sec207_std', 'sec208_std', 'sec209_std', 'sec210_std', 'sec211_std', 'sec212_std', 'sec213_std', 'sec214_std', 'sec215_std', 'sec216_std', 'sec217_std', 'sec218_std', 'sec219_std', 'sec220_std', 'sec221_std', 'sec222_std', 'sec223_std', 'sec224_std', 'sec225_std', 'sec226_std', 'sec227_std', 'sec228_std', 'sec229_std', 'sec230_std', 'sec231_std', 'sec232_std', 'sec233_std', 'sec234_std', 'sec235_std', 'sec236_std', 'sec237_std', 'sec238_std', 'sec239_std', 'sec240_std', 'sec241_std', 'sec242_std', 'sec243_std', 'sec244_std', 'sec245_std', 'sec246_std', 'sec247_std', 'sec248_std', 'sec249_std', 'sec250_std', 'sec251_std', 'sec252_std', 'sec253_std', 'sec254_std', 'sec255_std', 'sec256_std', 'sec257_std', 'sec258_std', 'sec259_std', 'sec260_std', 'sec261_std', 'sec262_std', 'sec263_std', 'sec264_std', 'sec265_std', 'sec266_std', 'sec267_std', 'sec268_std', 'sec269_std', 'sec270_std', 'sec271_std', 'sec272_std', 'sec273_std', 'sec274_std', 'sec275_std', 'sec276_std', 'sec277_std', 'sec278_std', 'sec279_std', 'sec280_std', 'sec281_std', 'sec282_std', 'sec283_std', 'sec284_std', 'sec285_std', 'sec286_std', 'sec287_std', 'sec288_std', 'sec289_std', 'sec290_std', 'sec291_std', 'sec292_std', 'sec293_std', 'sec294_std', 'sec295_std', 'sec296_std', 'sec297_std', 'sec298_std', 'sec299_std', 'sec300_std', 'sec301_std', 'sec302_std', 'sec303_std', 'sec304_std', 'sec305_std', 'sec306_std', 'sec307_std', 'sec308_std', 'sec309_std', 'sec310_std', 'sec311_std', 'sec312_std', 'sec313_std', 'sec314_std', 'sec315_std', 'sec316_std', 'sec317_std', 'sec318_std', 'sec319_std', 'sec320_std', 'sec321_std', 'sec322_std', 'sec323_std', 'sec324_std', 'sec325_std', 'sec326_std', 'sec327_std', 'sec328_std', 'sec329_std', 'sec330_std', 'sec331_std', 'sec332_std', 'sec333_std', 'sec334_std', 'sec335_std', 'sec336_std', 'sec337_std', 'sec338_std', 'sec339_std', 'sec340_std', 'sec341_std', 'sec342_std', 'sec343_std', 'sec344_std', 'sec345_std', 'sec346_std', 'sec347_std', 'sec348_std', 'sec349_std', 'sec350_std', 'sec351_std', 'sec352_std', 'sec353_std', 'sec354_std', 'sec355_std', 'sec356_std', 'sec357_std', 'sec358_std', 'sec359_std', 'sec360_std', 'sec361_std', 'sec362_std', 'sec363_std', 'sec364_std', 'sec365_std', 'sec366_std', 'sec367_std', 'sec368_std', 'sec369_std', 'sec370_std', 'sec371_std', 'sec372_std', 'sec373_std', 'sec374_std', 'sec375_std', 'sec376_std', 'sec377_std', 'sec378_std', 'sec379_std', 'sec380_std', 'sec381_std', 'sec382_std', 'sec383_std', 'sec384_std', 'sec385_std', 'sec386_std', 'sec387_std', 'sec388_std', 'sec389_std', 'sec390_std', 'sec391_std', 'sec392_std', 'sec393_std', 'sec394_std', 'sec395_std', 'sec396_std', 'sec397_std', 'sec398_std', 'sec399_std', 'sec400_std']\n"
     ]
    }
   ],
   "source": [
    "print(to_drop)"
   ]
  },
  {
   "cell_type": "code",
   "execution_count": 7,
   "metadata": {},
   "outputs": [
    {
     "data": {
      "text/plain": [
       "(6844, 801)"
      ]
     },
     "execution_count": 7,
     "metadata": {},
     "output_type": "execute_result"
    }
   ],
   "source": [
    "train_df1.shape"
   ]
  },
  {
   "cell_type": "code",
   "execution_count": 8,
   "metadata": {},
   "outputs": [],
   "source": [
    "train_df1=train_df1.drop(['sec1_std', 'sec2_std', 'sec3_std', 'sec4_std', 'sec5_std', 'sec6_std', 'sec7_std', 'sec8_std', 'sec9_std', 'sec10_std', 'sec11_std', 'sec12_std', 'sec13_std', 'sec14_std', 'sec15_std', 'sec16_std', 'sec17_std', 'sec18_std', 'sec19_std', 'sec20_std', 'sec21_std', 'sec22_std', 'sec23_std', 'sec24_std', 'sec25_std', 'sec26_std', 'sec27_std', 'sec28_std', 'sec29_std', 'sec30_std', 'sec31_std', 'sec32_std', 'sec33_std', 'sec34_std', 'sec35_std', 'sec36_std', 'sec37_std', 'sec38_std', 'sec39_std', 'sec40_std', 'sec41_std', 'sec42_std', 'sec43_std', 'sec44_std', 'sec45_std', 'sec46_std', 'sec47_std', 'sec48_std', 'sec49_std', 'sec50_std', 'sec51_std', 'sec52_std', 'sec53_std', 'sec54_std', 'sec55_std', 'sec56_std', 'sec57_std', 'sec58_std', 'sec59_std', 'sec60_std', 'sec61_std', 'sec62_std', 'sec63_std', 'sec64_std', 'sec65_std', 'sec66_std', 'sec67_std', 'sec68_std', 'sec69_std', 'sec70_std', 'sec71_std', 'sec72_std', 'sec73_std', 'sec74_std', 'sec75_std', 'sec76_std', 'sec77_std', 'sec78_std', 'sec79_std', 'sec80_std', 'sec81_std', 'sec82_std', 'sec83_std', 'sec84_std', 'sec85_std', 'sec86_std', 'sec87_std', 'sec88_std', 'sec89_std', 'sec90_std', 'sec91_std', 'sec92_std', 'sec93_std', 'sec94_std', 'sec95_std', 'sec96_std', 'sec97_std', 'sec98_std', 'sec99_std', 'sec100_std', 'sec101_std', 'sec102_std', 'sec103_std', 'sec104_std', 'sec105_std', 'sec106_std', 'sec107_std', 'sec108_std', 'sec109_std', 'sec110_std', 'sec111_std', 'sec112_std', 'sec113_std', 'sec114_std', 'sec115_std', 'sec116_std', 'sec117_std', 'sec118_std', 'sec119_std', 'sec120_std', 'sec121_std', 'sec122_std', 'sec123_std', 'sec124_std', 'sec125_std', 'sec126_std', 'sec127_std', 'sec128_std', 'sec129_std', 'sec130_std', 'sec131_std', 'sec132_std', 'sec133_std', 'sec134_std', 'sec135_std', 'sec136_std', 'sec137_std', 'sec138_std', 'sec139_std', 'sec140_std', 'sec141_std', 'sec142_std', 'sec143_std', 'sec144_std', 'sec145_std', 'sec146_std', 'sec147_std', 'sec148_std', 'sec149_std', 'sec150_std', 'sec151_std', 'sec152_std', 'sec153_std', 'sec154_std', 'sec155_std', 'sec156_std', 'sec157_std', 'sec158_std', 'sec159_std', 'sec160_std', 'sec161_std', 'sec162_std', 'sec163_std', 'sec164_std', 'sec165_std', 'sec166_std', 'sec167_std', 'sec168_std', 'sec169_std', 'sec170_std', 'sec171_std', 'sec172_std', 'sec173_std', 'sec174_std', 'sec175_std', 'sec176_std', 'sec177_std', 'sec178_std', 'sec179_std', 'sec180_std', 'sec181_std', 'sec182_std', 'sec183_std', 'sec184_std', 'sec185_std', 'sec186_std', 'sec187_std', 'sec188_std', 'sec189_std', 'sec190_std', 'sec191_std', 'sec192_std', 'sec193_std', 'sec194_std', 'sec195_std', 'sec196_std', 'sec197_std', 'sec198_std', 'sec199_std', 'sec200_std', 'sec201_std', 'sec202_std', 'sec203_std', 'sec204_std', 'sec205_std', 'sec206_std', 'sec207_std', 'sec208_std', 'sec209_std', 'sec210_std', 'sec211_std', 'sec212_std', 'sec213_std', 'sec214_std', 'sec215_std', 'sec216_std', 'sec217_std', 'sec218_std', 'sec219_std', 'sec220_std', 'sec221_std', 'sec222_std', 'sec223_std', 'sec224_std', 'sec225_std', 'sec226_std', 'sec227_std', 'sec228_std', 'sec229_std', 'sec230_std', 'sec231_std', 'sec232_std', 'sec233_std', 'sec234_std', 'sec235_std', 'sec236_std', 'sec237_std', 'sec238_std', 'sec239_std', 'sec240_std', 'sec241_std', 'sec242_std', 'sec243_std', 'sec244_std', 'sec245_std', 'sec246_std', 'sec247_std', 'sec248_std', 'sec249_std', 'sec250_std', 'sec251_std', 'sec252_std', 'sec253_std', 'sec254_std', 'sec255_std', 'sec256_std', 'sec257_std', 'sec258_std', 'sec259_std', 'sec260_std', 'sec261_std', 'sec262_std', 'sec263_std', 'sec264_std', 'sec265_std', 'sec266_std', 'sec267_std', 'sec268_std', 'sec269_std', 'sec270_std', 'sec271_std', 'sec272_std', 'sec273_std', 'sec274_std', 'sec275_std', 'sec276_std', 'sec277_std', 'sec278_std', 'sec279_std', 'sec280_std', 'sec281_std', 'sec282_std', 'sec283_std', 'sec284_std', 'sec285_std', 'sec286_std', 'sec287_std', 'sec288_std', 'sec289_std', 'sec290_std', 'sec291_std', 'sec292_std', 'sec293_std', 'sec294_std', 'sec295_std', 'sec296_std', 'sec297_std', 'sec298_std', 'sec299_std', 'sec300_std', 'sec301_std', 'sec302_std', 'sec303_std', 'sec304_std', 'sec305_std', 'sec306_std', 'sec307_std', 'sec308_std', 'sec309_std', 'sec310_std', 'sec311_std', 'sec312_std', 'sec313_std', 'sec314_std', 'sec315_std', 'sec316_std', 'sec317_std', 'sec318_std', 'sec319_std', 'sec320_std', 'sec321_std', 'sec322_std', 'sec323_std', 'sec324_std', 'sec325_std', 'sec326_std', 'sec327_std', 'sec328_std', 'sec329_std', 'sec330_std', 'sec331_std', 'sec332_std', 'sec333_std', 'sec334_std', 'sec335_std', 'sec336_std', 'sec337_std', 'sec338_std', 'sec339_std', 'sec340_std', 'sec341_std', 'sec342_std', 'sec343_std', 'sec344_std', 'sec345_std', 'sec346_std', 'sec347_std', 'sec348_std', 'sec349_std', 'sec350_std', 'sec351_std', 'sec352_std', 'sec353_std', 'sec354_std', 'sec355_std', 'sec356_std', 'sec357_std', 'sec358_std', 'sec359_std', 'sec360_std', 'sec361_std', 'sec362_std', 'sec363_std', 'sec364_std', 'sec365_std', 'sec366_std', 'sec367_std', 'sec368_std', 'sec369_std', 'sec370_std', 'sec371_std', 'sec372_std', 'sec373_std', 'sec374_std', 'sec375_std', 'sec376_std', 'sec377_std', 'sec378_std', 'sec379_std', 'sec380_std', 'sec381_std', 'sec382_std', 'sec383_std', 'sec384_std', 'sec385_std', 'sec386_std', 'sec387_std', 'sec388_std', 'sec389_std', 'sec390_std', 'sec391_std', 'sec392_std', 'sec393_std', 'sec394_std', 'sec395_std', 'sec396_std', 'sec397_std', 'sec398_std', 'sec399_std', 'sec400_std'], axis=1)"
   ]
  },
  {
   "cell_type": "code",
   "execution_count": 9,
   "metadata": {},
   "outputs": [
    {
     "data": {
      "text/plain": [
       "(6844, 401)"
      ]
     },
     "execution_count": 9,
     "metadata": {},
     "output_type": "execute_result"
    }
   ],
   "source": [
    "train_df1.shape"
   ]
  },
  {
   "cell_type": "code",
   "execution_count": 10,
   "metadata": {},
   "outputs": [],
   "source": [
    "test_df1=test_df1.drop(['sec1_std', 'sec2_std', 'sec3_std', 'sec4_std', 'sec5_std', 'sec6_std', 'sec7_std', 'sec8_std', 'sec9_std', 'sec10_std', 'sec11_std', 'sec12_std', 'sec13_std', 'sec14_std', 'sec15_std', 'sec16_std', 'sec17_std', 'sec18_std', 'sec19_std', 'sec20_std', 'sec21_std', 'sec22_std', 'sec23_std', 'sec24_std', 'sec25_std', 'sec26_std', 'sec27_std', 'sec28_std', 'sec29_std', 'sec30_std', 'sec31_std', 'sec32_std', 'sec33_std', 'sec34_std', 'sec35_std', 'sec36_std', 'sec37_std', 'sec38_std', 'sec39_std', 'sec40_std', 'sec41_std', 'sec42_std', 'sec43_std', 'sec44_std', 'sec45_std', 'sec46_std', 'sec47_std', 'sec48_std', 'sec49_std', 'sec50_std', 'sec51_std', 'sec52_std', 'sec53_std', 'sec54_std', 'sec55_std', 'sec56_std', 'sec57_std', 'sec58_std', 'sec59_std', 'sec60_std', 'sec61_std', 'sec62_std', 'sec63_std', 'sec64_std', 'sec65_std', 'sec66_std', 'sec67_std', 'sec68_std', 'sec69_std', 'sec70_std', 'sec71_std', 'sec72_std', 'sec73_std', 'sec74_std', 'sec75_std', 'sec76_std', 'sec77_std', 'sec78_std', 'sec79_std', 'sec80_std', 'sec81_std', 'sec82_std', 'sec83_std', 'sec84_std', 'sec85_std', 'sec86_std', 'sec87_std', 'sec88_std', 'sec89_std', 'sec90_std', 'sec91_std', 'sec92_std', 'sec93_std', 'sec94_std', 'sec95_std', 'sec96_std', 'sec97_std', 'sec98_std', 'sec99_std', 'sec100_std', 'sec101_std', 'sec102_std', 'sec103_std', 'sec104_std', 'sec105_std', 'sec106_std', 'sec107_std', 'sec108_std', 'sec109_std', 'sec110_std', 'sec111_std', 'sec112_std', 'sec113_std', 'sec114_std', 'sec115_std', 'sec116_std', 'sec117_std', 'sec118_std', 'sec119_std', 'sec120_std', 'sec121_std', 'sec122_std', 'sec123_std', 'sec124_std', 'sec125_std', 'sec126_std', 'sec127_std', 'sec128_std', 'sec129_std', 'sec130_std', 'sec131_std', 'sec132_std', 'sec133_std', 'sec134_std', 'sec135_std', 'sec136_std', 'sec137_std', 'sec138_std', 'sec139_std', 'sec140_std', 'sec141_std', 'sec142_std', 'sec143_std', 'sec144_std', 'sec145_std', 'sec146_std', 'sec147_std', 'sec148_std', 'sec149_std', 'sec150_std', 'sec151_std', 'sec152_std', 'sec153_std', 'sec154_std', 'sec155_std', 'sec156_std', 'sec157_std', 'sec158_std', 'sec159_std', 'sec160_std', 'sec161_std', 'sec162_std', 'sec163_std', 'sec164_std', 'sec165_std', 'sec166_std', 'sec167_std', 'sec168_std', 'sec169_std', 'sec170_std', 'sec171_std', 'sec172_std', 'sec173_std', 'sec174_std', 'sec175_std', 'sec176_std', 'sec177_std', 'sec178_std', 'sec179_std', 'sec180_std', 'sec181_std', 'sec182_std', 'sec183_std', 'sec184_std', 'sec185_std', 'sec186_std', 'sec187_std', 'sec188_std', 'sec189_std', 'sec190_std', 'sec191_std', 'sec192_std', 'sec193_std', 'sec194_std', 'sec195_std', 'sec196_std', 'sec197_std', 'sec198_std', 'sec199_std', 'sec200_std', 'sec201_std', 'sec202_std', 'sec203_std', 'sec204_std', 'sec205_std', 'sec206_std', 'sec207_std', 'sec208_std', 'sec209_std', 'sec210_std', 'sec211_std', 'sec212_std', 'sec213_std', 'sec214_std', 'sec215_std', 'sec216_std', 'sec217_std', 'sec218_std', 'sec219_std', 'sec220_std', 'sec221_std', 'sec222_std', 'sec223_std', 'sec224_std', 'sec225_std', 'sec226_std', 'sec227_std', 'sec228_std', 'sec229_std', 'sec230_std', 'sec231_std', 'sec232_std', 'sec233_std', 'sec234_std', 'sec235_std', 'sec236_std', 'sec237_std', 'sec238_std', 'sec239_std', 'sec240_std', 'sec241_std', 'sec242_std', 'sec243_std', 'sec244_std', 'sec245_std', 'sec246_std', 'sec247_std', 'sec248_std', 'sec249_std', 'sec250_std', 'sec251_std', 'sec252_std', 'sec253_std', 'sec254_std', 'sec255_std', 'sec256_std', 'sec257_std', 'sec258_std', 'sec259_std', 'sec260_std', 'sec261_std', 'sec262_std', 'sec263_std', 'sec264_std', 'sec265_std', 'sec266_std', 'sec267_std', 'sec268_std', 'sec269_std', 'sec270_std', 'sec271_std', 'sec272_std', 'sec273_std', 'sec274_std', 'sec275_std', 'sec276_std', 'sec277_std', 'sec278_std', 'sec279_std', 'sec280_std', 'sec281_std', 'sec282_std', 'sec283_std', 'sec284_std', 'sec285_std', 'sec286_std', 'sec287_std', 'sec288_std', 'sec289_std', 'sec290_std', 'sec291_std', 'sec292_std', 'sec293_std', 'sec294_std', 'sec295_std', 'sec296_std', 'sec297_std', 'sec298_std', 'sec299_std', 'sec300_std', 'sec301_std', 'sec302_std', 'sec303_std', 'sec304_std', 'sec305_std', 'sec306_std', 'sec307_std', 'sec308_std', 'sec309_std', 'sec310_std', 'sec311_std', 'sec312_std', 'sec313_std', 'sec314_std', 'sec315_std', 'sec316_std', 'sec317_std', 'sec318_std', 'sec319_std', 'sec320_std', 'sec321_std', 'sec322_std', 'sec323_std', 'sec324_std', 'sec325_std', 'sec326_std', 'sec327_std', 'sec328_std', 'sec329_std', 'sec330_std', 'sec331_std', 'sec332_std', 'sec333_std', 'sec334_std', 'sec335_std', 'sec336_std', 'sec337_std', 'sec338_std', 'sec339_std', 'sec340_std', 'sec341_std', 'sec342_std', 'sec343_std', 'sec344_std', 'sec345_std', 'sec346_std', 'sec347_std', 'sec348_std', 'sec349_std', 'sec350_std', 'sec351_std', 'sec352_std', 'sec353_std', 'sec354_std', 'sec355_std', 'sec356_std', 'sec357_std', 'sec358_std', 'sec359_std', 'sec360_std', 'sec361_std', 'sec362_std', 'sec363_std', 'sec364_std', 'sec365_std', 'sec366_std', 'sec367_std', 'sec368_std', 'sec369_std', 'sec370_std', 'sec371_std', 'sec372_std', 'sec373_std', 'sec374_std', 'sec375_std', 'sec376_std', 'sec377_std', 'sec378_std', 'sec379_std', 'sec380_std', 'sec381_std', 'sec382_std', 'sec383_std', 'sec384_std', 'sec385_std', 'sec386_std', 'sec387_std', 'sec388_std', 'sec389_std', 'sec390_std', 'sec391_std', 'sec392_std', 'sec393_std', 'sec394_std', 'sec395_std', 'sec396_std', 'sec397_std', 'sec398_std', 'sec399_std', 'sec400_std'],axis=1)"
   ]
  },
  {
   "cell_type": "code",
   "execution_count": 11,
   "metadata": {},
   "outputs": [
    {
     "data": {
      "text/plain": [
       "(2934, 401)"
      ]
     },
     "execution_count": 11,
     "metadata": {},
     "output_type": "execute_result"
    }
   ],
   "source": [
    "test_df1.shape"
   ]
  },
  {
   "cell_type": "code",
   "execution_count": 12,
   "metadata": {
    "id": "KmKEYYed04Nj"
   },
   "outputs": [],
   "source": [
    "import matplotlib.pyplot as plt\n",
    "\n",
    "from sklearn.preprocessing import StandardScaler\n",
    "from sklearn.model_selection import train_test_split, cross_val_score, GridSearchCV\n",
    "from sklearn.ensemble import RandomForestClassifier\n",
    "from sklearn.svm import SVC\n",
    "from sklearn.metrics import confusion_matrix\n"
   ]
  },
  {
   "cell_type": "code",
   "execution_count": 13,
   "metadata": {
    "id": "VkbeRzzm04Q7"
   },
   "outputs": [],
   "source": [
    "train_df1['age'] = train_df1['age'].astype(np.uint8)\n",
    "test_df1['age'] = test_df1['age'].astype(np.uint8)"
   ]
  },
  {
   "cell_type": "code",
   "execution_count": 14,
   "metadata": {
    "id": "aOoBh63U0-sL"
   },
   "outputs": [],
   "source": [
    "train_df1['target'] = train_df1['age'].map(class_labels)\n",
    "test_df1['target'] = test_df1['age'].map(class_labels)"
   ]
  },
  {
   "cell_type": "code",
   "execution_count": 15,
   "metadata": {
    "id": "uafPl5vG0-uY"
   },
   "outputs": [],
   "source": [
    "X_train2 = train_df1.drop(columns=['age', 'target'])\n",
    "y_train2 = train_df1['target']\n",
    "\n",
    "X_test2 = test_df1.drop(columns=['age', 'target'])\n",
    "y_test2 = test_df1['target']"
   ]
  },
  {
   "cell_type": "code",
   "execution_count": 16,
   "metadata": {
    "id": "XKVtrBsH0-yH"
   },
   "outputs": [],
   "source": [
    "# Scaling X_train to the standard scale.\n",
    "ss = StandardScaler()\n",
    "X_train_sc1 = ss.fit_transform(X_train2)"
   ]
  },
  {
   "cell_type": "code",
   "execution_count": 17,
   "metadata": {
    "id": "MPtERc0o0-0O"
   },
   "outputs": [],
   "source": [
    "X_test_sc1 = ss.transform(X_test2)"
   ]
  },
  {
   "cell_type": "code",
   "execution_count": 18,
   "metadata": {
    "id": "z7l6aEEM0-30"
   },
   "outputs": [],
   "source": [
    "# try cnn\n",
    "import pandas as pd\n",
    "import numpy as np\n",
    "import matplotlib.pyplot as plt\n",
    "\n",
    "import cv2\n",
    "import os\n",
    "from zipfile import ZipFile\n",
    "import time\n",
    "from datetime import datetime\n",
    "import itertools\n",
    "\n",
    "from sklearn.model_selection import train_test_split\n",
    "from sklearn.metrics import confusion_matrix\n",
    "\n",
    "import tensorflow as tf\n",
    "from tensorflow.keras.models import Sequential\n",
    "from tensorflow.keras.layers import Dense\n",
    "from tensorflow.keras.layers import Conv1D, MaxPooling1D, AveragePooling1D, GlobalAveragePooling1D\n",
    "from tensorflow.keras import utils\n",
    "from tensorflow.keras.callbacks import EarlyStopping, TensorBoard"
   ]
  },
  {
   "cell_type": "code",
   "execution_count": 19,
   "metadata": {},
   "outputs": [
    {
     "data": {
      "text/plain": [
       "(6844, 400)"
      ]
     },
     "execution_count": 19,
     "metadata": {},
     "output_type": "execute_result"
    }
   ],
   "source": [
    "X_train_sc1.shape"
   ]
  },
  {
   "cell_type": "code",
   "execution_count": 20,
   "metadata": {},
   "outputs": [
    {
     "data": {
      "text/plain": [
       "(2934, 400)"
      ]
     },
     "execution_count": 20,
     "metadata": {},
     "output_type": "execute_result"
    }
   ],
   "source": [
    "X_test_sc1.shape"
   ]
  },
  {
   "cell_type": "code",
   "execution_count": 21,
   "metadata": {
    "id": "IJeSUF2D0-5s"
   },
   "outputs": [
    {
     "data": {
      "text/plain": [
       "(6844, 20, 20)"
      ]
     },
     "execution_count": 21,
     "metadata": {},
     "output_type": "execute_result"
    }
   ],
   "source": [
    "X_train_2 = np.reshape(X_train_sc1, (X_train_sc1.shape[0], 20, 20))\n",
    "X_train_2.shape"
   ]
  },
  {
   "cell_type": "code",
   "execution_count": 22,
   "metadata": {
    "id": "Kj1A5g4j0-9G"
   },
   "outputs": [
    {
     "data": {
      "text/plain": [
       "(2934, 20, 20)"
      ]
     },
     "execution_count": 22,
     "metadata": {},
     "output_type": "execute_result"
    }
   ],
   "source": [
    "X_test_2 = np.reshape(X_test_sc1, (X_test_sc1.shape[0], 20, 20))\n",
    "X_test_2.shape"
   ]
  },
  {
   "cell_type": "code",
   "execution_count": 23,
   "metadata": {
    "id": "QYoeMquF0-_Q"
   },
   "outputs": [],
   "source": [
    "from keras.layers import Dense,Dropout\n",
    "from keras.layers import Flatten\n",
    "from keras.layers import BatchNormalization"
   ]
  },
  {
   "cell_type": "code",
   "execution_count": 38,
   "metadata": {
    "id": "SYDfSHKC1ZqT"
   },
   "outputs": [
    {
     "name": "stdout",
     "output_type": "stream",
     "text": [
      "Model: \"sequential_1\"\n",
      "_________________________________________________________________\n",
      " Layer (type)                Output Shape              Param #   \n",
      "=================================================================\n",
      " conv1d_4 (Conv1D)           (None, 19, 32)            1312      \n",
      "                                                                 \n",
      " batch_normalization_4 (Batc  (None, 19, 32)           128       \n",
      " hNormalization)                                                 \n",
      "                                                                 \n",
      " max_pooling1d_4 (MaxPooling  (None, 19, 32)           0         \n",
      " 1D)                                                             \n",
      "                                                                 \n",
      " conv1d_5 (Conv1D)           (None, 18, 32)            2080      \n",
      "                                                                 \n",
      " batch_normalization_5 (Batc  (None, 18, 32)           128       \n",
      " hNormalization)                                                 \n",
      "                                                                 \n",
      " max_pooling1d_5 (MaxPooling  (None, 18, 32)           0         \n",
      " 1D)                                                             \n",
      "                                                                 \n",
      " dropout_4 (Dropout)         (None, 18, 32)            0         \n",
      "                                                                 \n",
      " conv1d_6 (Conv1D)           (None, 16, 64)            6208      \n",
      "                                                                 \n",
      " batch_normalization_6 (Batc  (None, 16, 64)           256       \n",
      " hNormalization)                                                 \n",
      "                                                                 \n",
      " max_pooling1d_6 (MaxPooling  (None, 16, 64)           0         \n",
      " 1D)                                                             \n",
      "                                                                 \n",
      " dropout_5 (Dropout)         (None, 16, 64)            0         \n",
      "                                                                 \n",
      " conv1d_7 (Conv1D)           (None, 14, 64)            12352     \n",
      "                                                                 \n",
      " batch_normalization_7 (Batc  (None, 14, 64)           256       \n",
      " hNormalization)                                                 \n",
      "                                                                 \n",
      " max_pooling1d_7 (MaxPooling  (None, 14, 64)           0         \n",
      " 1D)                                                             \n",
      "                                                                 \n",
      " dropout_6 (Dropout)         (None, 14, 64)            0         \n",
      "                                                                 \n",
      " flatten_1 (Flatten)         (None, 896)               0         \n",
      "                                                                 \n",
      " dense_2 (Dense)             (None, 64)                57408     \n",
      "                                                                 \n",
      " dropout_7 (Dropout)         (None, 64)                0         \n",
      "                                                                 \n",
      " dense_3 (Dense)             (None, 7)                 455       \n",
      "                                                                 \n",
      "=================================================================\n",
      "Total params: 80,583\n",
      "Trainable params: 80,199\n",
      "Non-trainable params: 384\n",
      "_________________________________________________________________\n"
     ]
    }
   ],
   "source": [
    "# Defining the architecture of the sequential neural network.\n",
    "\n",
    "final_cnn = Sequential()\n",
    "\n",
    "# Input layer with 32 filters, followed by an AveragePooling2D layer.\n",
    "final_cnn.add(Conv1D(filters=32, kernel_size=2, activation='relu', input_shape=(X_test_2.shape[1], X_test_2.shape[2]))) \n",
    "final_cnn.add(BatchNormalization())   # 3rd dim = 1 for grayscale images.\n",
    "final_cnn.add(MaxPooling1D(1))\n",
    "\n",
    "# Three Conv2D layers with filters increasing by a factor of 2 for every successive Conv2D layer.\n",
    "final_cnn.add(Conv1D(filters=32, kernel_size=2, activation='relu'))\n",
    "final_cnn.add(BatchNormalization())\n",
    "final_cnn.add(MaxPooling1D(1))\n",
    "final_cnn.add(Dropout(rate=0.2))\n",
    "\n",
    "final_cnn.add(Conv1D(filters=64, kernel_size=3, activation='relu'))\n",
    "final_cnn.add(BatchNormalization())\n",
    "final_cnn.add(MaxPooling1D(1))\n",
    "final_cnn.add(Dropout(rate=0.2))\n",
    "\n",
    "final_cnn.add(Conv1D(filters=64, kernel_size=3, activation='relu'))\n",
    "final_cnn.add(BatchNormalization())\n",
    "final_cnn.add(MaxPooling1D(1))\n",
    "final_cnn.add(Dropout(rate=0.2))\n",
    "\n",
    "final_cnn.add(Flatten())\n",
    "# A GlobalAveragePooling2D layer before going into Dense layers below.\n",
    "# GlobalAveragePooling2D layer gives no. of outputs equal to no. of filters in last Conv2D layer above (256).\n",
    "# One Dense layer with 132 nodes so as to taper down the no. of nodes from no. of outputs of GlobalAveragePooling2D layer above towards no. of nodes in output layer below (7).\n",
    "final_cnn.add(Dense(64, activation='relu'))\n",
    "final_cnn.add(Dropout(rate=0.2))\n",
    "\n",
    "final_cnn.add(Dense(7, activation='sigmoid'))\n",
    "\n",
    "final_cnn.summary()"
   ]
  },
  {
   "cell_type": "code",
   "execution_count": 39,
   "metadata": {
    "id": "S9C-Ohae1ZsX"
   },
   "outputs": [],
   "source": [
    "learning_rate=0.001\n",
    "#batch_size=40\n",
    "epochs = 25"
   ]
  },
  {
   "cell_type": "code",
   "execution_count": 40,
   "metadata": {
    "id": "39cLQCC01Zv3"
   },
   "outputs": [],
   "source": [
    "from tensorflow.keras.optimizers import SGD,Adam"
   ]
  },
  {
   "cell_type": "code",
   "execution_count": 41,
   "metadata": {
    "id": "6jx-7Ib61Zy3"
   },
   "outputs": [],
   "source": [
    "optimizer = Adam(learning_rate=0.001)\n",
    "#model.compile(loss='binary_crossentropy', optimizer=optimizer,metrics=['accuracy'])\n",
    "final_cnn.compile(loss='categorical_crossentropy', optimizer=optimizer,metrics=[keras.metrics.AUC(name='auc')])"
   ]
  },
  {
   "cell_type": "code",
   "execution_count": 42,
   "metadata": {
    "id": "2Fk_UthH1rWq"
   },
   "outputs": [],
   "source": [
    "early_stop = EarlyStopping(monitor = 'val_loss', min_delta = 0.0001,patience = 1, mode = 'min', verbose = 1,\n",
    "                           restore_best_weights = True)\n",
    "# "
   ]
  },
  {
   "cell_type": "code",
   "execution_count": 43,
   "metadata": {
    "id": "kZwitXoM1rY3"
   },
   "outputs": [],
   "source": [
    "from tensorflow import keras"
   ]
  },
  {
   "cell_type": "code",
   "execution_count": 44,
   "metadata": {
    "id": "De6xTbx21rcb"
   },
   "outputs": [
    {
     "data": {
      "text/plain": [
       "array([[1, 0, 0, ..., 0, 0, 0],\n",
       "       [0, 0, 0, ..., 0, 0, 0],\n",
       "       [0, 0, 0, ..., 0, 0, 0],\n",
       "       ...,\n",
       "       [1, 0, 0, ..., 0, 0, 0],\n",
       "       [0, 1, 0, ..., 0, 0, 0],\n",
       "       [1, 0, 0, ..., 0, 0, 0]])"
      ]
     },
     "execution_count": 44,
     "metadata": {},
     "output_type": "execute_result"
    }
   ],
   "source": [
    "from sklearn.preprocessing import LabelBinarizer\n",
    "\n",
    "y_train_multi = LabelBinarizer().fit_transform(y_train2)\n",
    "y_train_multi"
   ]
  },
  {
   "cell_type": "code",
   "execution_count": 45,
   "metadata": {
    "id": "riz3thgy1rep"
   },
   "outputs": [
    {
     "data": {
      "text/plain": [
       "array([0, 1, 0, 0, 0, 0, 0])"
      ]
     },
     "execution_count": 45,
     "metadata": {},
     "output_type": "execute_result"
    }
   ],
   "source": [
    "y_test_multi = LabelBinarizer().fit_transform(y_test2)\n",
    "y_test_multi[0]"
   ]
  },
  {
   "cell_type": "code",
   "execution_count": 46,
   "metadata": {
    "id": "L2tca4A11riG"
   },
   "outputs": [
    {
     "name": "stdout",
     "output_type": "stream",
     "text": [
      "Epoch 1/10\n",
      "110/110 [==============================] - 3s 14ms/step - loss: 0.4975 - auc: 0.6531 - val_loss: 0.3592 - val_auc: 0.7511\n",
      "Epoch 2/10\n",
      "110/110 [==============================] - 1s 11ms/step - loss: 0.3529 - auc: 0.7776 - val_loss: 0.3097 - val_auc: 0.8255\n",
      "Epoch 3/10\n",
      "110/110 [==============================] - 1s 10ms/step - loss: 0.3159 - auc: 0.8256 - val_loss: 0.2960 - val_auc: 0.8453\n",
      "Epoch 4/10\n",
      "110/110 [==============================] - 1s 12ms/step - loss: 0.2962 - auc: 0.8497 - val_loss: 0.2904 - val_auc: 0.8549\n",
      "Epoch 5/10\n",
      "110/110 [==============================] - 1s 10ms/step - loss: 0.2811 - auc: 0.8669 - val_loss: 0.2868 - val_auc: 0.8598\n",
      "Epoch 6/10\n",
      "110/110 [==============================] - 1s 10ms/step - loss: 0.2723 - auc: 0.8780 - val_loss: 0.2860 - val_auc: 0.8613\n",
      "Epoch 7/10\n",
      "110/110 [==============================] - 1s 11ms/step - loss: 0.2631 - auc: 0.8871 - val_loss: 0.2811 - val_auc: 0.8666\n",
      "Epoch 8/10\n",
      "108/110 [============================>.] - ETA: 0s - loss: 0.2561 - auc: 0.8934Restoring model weights from the end of the best epoch: 7.\n",
      "110/110 [==============================] - 1s 10ms/step - loss: 0.2558 - auc: 0.8937 - val_loss: 0.2816 - val_auc: 0.8671\n",
      "Epoch 00008: early stopping\n"
     ]
    }
   ],
   "source": [
    "history = final_cnn.fit(X_train_2, y_train_multi, epochs=10, batch_size=50,validation_split=0.2,callbacks = [early_stop])"
   ]
  },
  {
   "cell_type": "code",
   "execution_count": 206,
   "metadata": {},
   "outputs": [
    {
     "name": "stdout",
     "output_type": "stream",
     "text": [
      "INFO:tensorflow:Assets written to: sip_project_load_model_corr_0.9\\assets\n"
     ]
    }
   ],
   "source": [
    "final_cnn.save(\"sip_project_load_model_corr_0.9\")"
   ]
  },
  {
   "cell_type": "code",
   "execution_count": 33,
   "metadata": {},
   "outputs": [],
   "source": [
    "final_cnn = keras.models.load_model(\"sip_project_load_model_corr_0.9\")"
   ]
  },
  {
   "cell_type": "code",
   "execution_count": 34,
   "metadata": {
    "id": "ELyu9_0s1rkO"
   },
   "outputs": [],
   "source": [
    "from sklearn import metrics\n",
    "from sklearn.metrics import accuracy_score # for calculating accuracy of model\n",
    "from sklearn.model_selection import train_test_split # for splitting the dataset for training and testing\n",
    "from sklearn.metrics import classification_report # for generating a classification report of model\n",
    "\n",
    "from sklearn.metrics import precision_score\n",
    "from sklearn.metrics import recall_score\n",
    "from sklearn.metrics import f1_score\n",
    "\n",
    "from sklearn.metrics import roc_auc_score\n",
    "from sklearn.metrics import roc_curve, auc"
   ]
  },
  {
   "cell_type": "code",
   "execution_count": 35,
   "metadata": {
    "id": "Fv007yLU18Lh"
   },
   "outputs": [
    {
     "name": "stdout",
     "output_type": "stream",
     "text": [
      "92/92 [==============================] - 5s 4ms/step - loss: 0.2798 - auc: 0.8683\n",
      "Test results - Loss: 0.27976295351982117 - Accuracy: 86.82681918144226%\n"
     ]
    }
   ],
   "source": [
    "test_results = final_cnn.evaluate(X_test_2, y_test_multi, verbose=1)\n",
    "print(f'Test results - Loss: {test_results[0]} - Accuracy: {test_results[1]*100}%')"
   ]
  },
  {
   "cell_type": "code",
   "execution_count": 47,
   "metadata": {
    "id": "Rl-zr0w118Nb"
   },
   "outputs": [
    {
     "data": {
      "image/png": "[encoded data removed]",
      "text/plain": [
       "<Figure size 432x288 with 1 Axes>"
      ]
     },
     "metadata": {
      "needs_background": "light"
     },
     "output_type": "display_data"
    }
   ],
   "source": [
    "# Plot of accuracy vs epoch for train and test dataset\n",
    "plt.plot(history.history['auc'])\n",
    "plt.plot(history.history['val_auc'])\n",
    "plt.title(\"Plot of accuracy vs epoch for train and test dataset\")\n",
    "plt.ylabel('accuracy')\n",
    "#plt.xlabel('epoch')\n",
    "plt.show()"
   ]
  },
  {
   "cell_type": "code",
   "execution_count": 48,
   "metadata": {
    "id": "t3tDEYSJ18RE"
   },
   "outputs": [
    {
     "data": {
      "image/png": "[encoded data removed]",
      "text/plain": [
       "<Figure size 432x288 with 1 Axes>"
      ]
     },
     "metadata": {
      "needs_background": "light"
     },
     "output_type": "display_data"
    }
   ],
   "source": [
    "# Plot of loss vs epoch for train and test dataset\n",
    "plt.plot(history.history['loss'])\n",
    "plt.plot(history.history['val_loss'])\n",
    "plt.title(\"Plot of loss vs epoch for train and test dataset\")\n",
    "plt.ylabel('loss')\n",
    "#plt.xlabel('epoch')\n",
    "plt.legend(['train', 'test'], loc='upper right')\n",
    "plt.show()"
   ]
  },
  {
   "cell_type": "code",
   "execution_count": 49,
   "metadata": {
    "id": "fAcGZLru18T8"
   },
   "outputs": [],
   "source": [
    "import sklearn.metrics"
   ]
  },
  {
   "cell_type": "code",
   "execution_count": 50,
   "metadata": {
    "id": "mOW-w-Ic3W4e"
   },
   "outputs": [],
   "source": [
    "predict_x=final_cnn.predict(X_test_2) \n",
    "classes_x=np.argmax(predict_x,axis=1)"
   ]
  },
  {
   "cell_type": "code",
   "execution_count": 51,
   "metadata": {
    "id": "v1ya2Atr3W64"
   },
   "outputs": [
    {
     "data": {
      "text/plain": [
       "array([3, 5, 0, ..., 1, 0, 0], dtype=int64)"
      ]
     },
     "execution_count": 51,
     "metadata": {},
     "output_type": "execute_result"
    }
   ],
   "source": [
    "classes_x"
   ]
  },
  {
   "cell_type": "code",
   "execution_count": null,
   "metadata": {},
   "outputs": [],
   "source": []
  },
  {
   "cell_type": "code",
   "execution_count": 52,
   "metadata": {
    "id": "9Jp5mHXv3W-u"
   },
   "outputs": [],
   "source": [
    "from sklearn.metrics import plot_confusion_matrix"
   ]
  },
  {
   "cell_type": "code",
   "execution_count": 53,
   "metadata": {
    "id": "7JfycOhI3oCO"
   },
   "outputs": [
    {
     "data": {
      "text/plain": [
       "array([1, 5, 0, ..., 5, 0, 0], dtype=int64)"
      ]
     },
     "execution_count": 53,
     "metadata": {},
     "output_type": "execute_result"
    }
   ],
   "source": [
    "rounded_labels=np.argmax(y_test_multi, axis=1)\n",
    "rounded_labels"
   ]
  },
  {
   "cell_type": "code",
   "execution_count": 54,
   "metadata": {
    "id": "c_lhH_W13XBq"
   },
   "outputs": [
    {
     "data": {
      "text/plain": [
       "array([[522,  50,   5,  35,  10,  12,   5],\n",
       "       [ 70, 108,  31,  67,   9,  19,   2],\n",
       "       [ 14,  47,  41, 131,  13,  33,   8],\n",
       "       [ 16,  32,  23, 427,  44,  68,   7],\n",
       "       [  9,   8,   9,  88,  46,  88,   9],\n",
       "       [ 10,  14,  17, 105,  40, 243,  66],\n",
       "       [  7,   6,   0,  37,   9, 101, 173]], dtype=int64)"
      ]
     },
     "execution_count": 54,
     "metadata": {},
     "output_type": "execute_result"
    }
   ],
   "source": [
    "from sklearn.metrics import confusion_matrix  \n",
    "cmsvm= confusion_matrix(rounded_labels,classes_x)\n",
    "cmsvm"
   ]
  },
  {
   "cell_type": "code",
   "execution_count": 55,
   "metadata": {},
   "outputs": [
    {
     "data": {
      "text/html": [
       "<div>\n",
       "<style scoped>\n",
       "    .dataframe tbody tr th:only-of-type {\n",
       "        vertical-align: middle;\n",
       "    }\n",
       "\n",
       "    .dataframe tbody tr th {\n",
       "        vertical-align: top;\n",
       "    }\n",
       "\n",
       "    .dataframe thead th {\n",
       "        text-align: right;\n",
       "    }\n",
       "</style>\n",
       "<table border=\"1\" class=\"dataframe\">\n",
       "  <thead>\n",
       "    <tr style=\"text-align: right;\">\n",
       "      <th></th>\n",
       "      <th>age_range</th>\n",
       "    </tr>\n",
       "  </thead>\n",
       "  <tbody>\n",
       "    <tr>\n",
       "      <th>0</th>\n",
       "      <td>1-4</td>\n",
       "    </tr>\n",
       "    <tr>\n",
       "      <th>1</th>\n",
       "      <td>5-11</td>\n",
       "    </tr>\n",
       "    <tr>\n",
       "      <th>2</th>\n",
       "      <td>12-18</td>\n",
       "    </tr>\n",
       "    <tr>\n",
       "      <th>3</th>\n",
       "      <td>19-34</td>\n",
       "    </tr>\n",
       "    <tr>\n",
       "      <th>4</th>\n",
       "      <td>35-44</td>\n",
       "    </tr>\n",
       "    <tr>\n",
       "      <th>5</th>\n",
       "      <td>45-64</td>\n",
       "    </tr>\n",
       "    <tr>\n",
       "      <th>6</th>\n",
       "      <td>65-110</td>\n",
       "    </tr>\n",
       "  </tbody>\n",
       "</table>\n",
       "</div>"
      ],
      "text/plain": [
       "  age_range\n",
       "0       1-4\n",
       "1      5-11\n",
       "2     12-18\n",
       "3     19-34\n",
       "4     35-44\n",
       "5     45-64\n",
       "6    65-110"
      ]
     },
     "execution_count": 55,
     "metadata": {},
     "output_type": "execute_result"
    }
   ],
   "source": [
    "details={'age_range' : ['1-4', '5-11', '12-18', '19-34', '35-44', '45-64', '65-110']}\n",
    "df = pd.DataFrame(details)\n",
    "df"
   ]
  },
  {
   "cell_type": "code",
   "execution_count": 56,
   "metadata": {
    "id": "m08ZCqVl3e7_"
   },
   "outputs": [],
   "source": [
    "cm_plot_labels = df['age_range']"
   ]
  },
  {
   "cell_type": "code",
   "execution_count": 57,
   "metadata": {
    "id": "crkIPKkX3e-f"
   },
   "outputs": [
    {
     "data": {
      "image/png": "[encoded data removed]",
      "text/plain": [
       "<Figure size 720x360 with 2 Axes>"
      ]
     },
     "metadata": {
      "needs_background": "light"
     },
     "output_type": "display_data"
    }
   ],
   "source": [
    "import seaborn as sns\n",
    "plt.figure(figsize = (10,5))\n",
    "plt.xlabel = \"Predicted label\"\n",
    "x_axis_labels= ['1-4', '5-11', '12-18', '19-34', '35-44','45-64','65-110']\n",
    "y_axis_labels=['1-4', '5-11', '12-18', '19-34', '35-44','45-64','65-110']\n",
    "\n",
    "ax=sns.heatmap(cmsvm,annot=True,xticklabels=x_axis_labels, yticklabels=y_axis_labels,fmt='', cmap=\"Greens\");\n",
    "ax.set(ylabel=\"True Label\", xlabel=\"Predicted Label\")\n",
    "ax.set_title( \"CNN\" , size = 24 )\n",
    "ax.xaxis.get_label().set_fontsize(15)\n",
    "ax.yaxis.get_label().set_fontsize(15)"
   ]
  },
  {
   "cell_type": "code",
   "execution_count": 58,
   "metadata": {
    "id": "dXlMJ3Po3fCT"
   },
   "outputs": [],
   "source": [
    "test_df = pd.read_csv(\"images_filenames_labels_test.csv\")\n",
    "train_df = pd.read_csv(\"images_filenames_labels_train.csv\")"
   ]
  },
  {
   "cell_type": "code",
   "execution_count": 59,
   "metadata": {
    "id": "NCymUkFM3fFN"
   },
   "outputs": [
    {
     "data": {
      "text/html": [
       "<div>\n",
       "<style scoped>\n",
       "    .dataframe tbody tr th:only-of-type {\n",
       "        vertical-align: middle;\n",
       "    }\n",
       "\n",
       "    .dataframe tbody tr th {\n",
       "        vertical-align: top;\n",
       "    }\n",
       "\n",
       "    .dataframe thead th {\n",
       "        text-align: right;\n",
       "    }\n",
       "</style>\n",
       "<table border=\"1\" class=\"dataframe\">\n",
       "  <thead>\n",
       "    <tr style=\"text-align: right;\">\n",
       "      <th></th>\n",
       "      <th>filepaths</th>\n",
       "      <th>age</th>\n",
       "      <th>target</th>\n",
       "    </tr>\n",
       "  </thead>\n",
       "  <tbody>\n",
       "    <tr>\n",
       "      <th>0</th>\n",
       "      <td>face_age\\009\\1693.png</td>\n",
       "      <td>9</td>\n",
       "      <td>1</td>\n",
       "    </tr>\n",
       "    <tr>\n",
       "      <th>1</th>\n",
       "      <td>face_age\\056\\2723.png</td>\n",
       "      <td>56</td>\n",
       "      <td>5</td>\n",
       "    </tr>\n",
       "    <tr>\n",
       "      <th>2</th>\n",
       "      <td>face_age\\001\\9456.png</td>\n",
       "      <td>1</td>\n",
       "      <td>0</td>\n",
       "    </tr>\n",
       "    <tr>\n",
       "      <th>3</th>\n",
       "      <td>face_age\\068\\3688.png</td>\n",
       "      <td>68</td>\n",
       "      <td>6</td>\n",
       "    </tr>\n",
       "    <tr>\n",
       "      <th>4</th>\n",
       "      <td>face_age\\052\\2153.png</td>\n",
       "      <td>52</td>\n",
       "      <td>5</td>\n",
       "    </tr>\n",
       "    <tr>\n",
       "      <th>...</th>\n",
       "      <td>...</td>\n",
       "      <td>...</td>\n",
       "      <td>...</td>\n",
       "    </tr>\n",
       "    <tr>\n",
       "      <th>2929</th>\n",
       "      <td>face_age\\030\\904.png</td>\n",
       "      <td>30</td>\n",
       "      <td>3</td>\n",
       "    </tr>\n",
       "    <tr>\n",
       "      <th>2930</th>\n",
       "      <td>face_age\\001\\4732.png</td>\n",
       "      <td>1</td>\n",
       "      <td>0</td>\n",
       "    </tr>\n",
       "    <tr>\n",
       "      <th>2931</th>\n",
       "      <td>face_age\\052\\4300.png</td>\n",
       "      <td>52</td>\n",
       "      <td>5</td>\n",
       "    </tr>\n",
       "    <tr>\n",
       "      <th>2932</th>\n",
       "      <td>face_age\\001\\4038.png</td>\n",
       "      <td>1</td>\n",
       "      <td>0</td>\n",
       "    </tr>\n",
       "    <tr>\n",
       "      <th>2933</th>\n",
       "      <td>face_age\\001\\4561.png</td>\n",
       "      <td>1</td>\n",
       "      <td>0</td>\n",
       "    </tr>\n",
       "  </tbody>\n",
       "</table>\n",
       "<p>2934 rows × 3 columns</p>\n",
       "</div>"
      ],
      "text/plain": [
       "                  filepaths  age  target\n",
       "0     face_age\\009\\1693.png    9       1\n",
       "1     face_age\\056\\2723.png   56       5\n",
       "2     face_age\\001\\9456.png    1       0\n",
       "3     face_age\\068\\3688.png   68       6\n",
       "4     face_age\\052\\2153.png   52       5\n",
       "...                     ...  ...     ...\n",
       "2929   face_age\\030\\904.png   30       3\n",
       "2930  face_age\\001\\4732.png    1       0\n",
       "2931  face_age\\052\\4300.png   52       5\n",
       "2932  face_age\\001\\4038.png    1       0\n",
       "2933  face_age\\001\\4561.png    1       0\n",
       "\n",
       "[2934 rows x 3 columns]"
      ]
     },
     "execution_count": 59,
     "metadata": {},
     "output_type": "execute_result"
    }
   ],
   "source": [
    "test_df"
   ]
  },
  {
   "cell_type": "code",
   "execution_count": 60,
   "metadata": {},
   "outputs": [],
   "source": [
    "test_df['predicted_label'] = classes_x"
   ]
  },
  {
   "cell_type": "code",
   "execution_count": 61,
   "metadata": {},
   "outputs": [
    {
     "data": {
      "text/html": [
       "<div>\n",
       "<style scoped>\n",
       "    .dataframe tbody tr th:only-of-type {\n",
       "        vertical-align: middle;\n",
       "    }\n",
       "\n",
       "    .dataframe tbody tr th {\n",
       "        vertical-align: top;\n",
       "    }\n",
       "\n",
       "    .dataframe thead th {\n",
       "        text-align: right;\n",
       "    }\n",
       "</style>\n",
       "<table border=\"1\" class=\"dataframe\">\n",
       "  <thead>\n",
       "    <tr style=\"text-align: right;\">\n",
       "      <th></th>\n",
       "      <th>filepaths</th>\n",
       "      <th>age</th>\n",
       "      <th>target</th>\n",
       "      <th>predicted_label</th>\n",
       "    </tr>\n",
       "  </thead>\n",
       "  <tbody>\n",
       "    <tr>\n",
       "      <th>0</th>\n",
       "      <td>face_age\\009\\1693.png</td>\n",
       "      <td>9</td>\n",
       "      <td>1</td>\n",
       "      <td>3</td>\n",
       "    </tr>\n",
       "    <tr>\n",
       "      <th>1</th>\n",
       "      <td>face_age\\056\\2723.png</td>\n",
       "      <td>56</td>\n",
       "      <td>5</td>\n",
       "      <td>5</td>\n",
       "    </tr>\n",
       "    <tr>\n",
       "      <th>2</th>\n",
       "      <td>face_age\\001\\9456.png</td>\n",
       "      <td>1</td>\n",
       "      <td>0</td>\n",
       "      <td>0</td>\n",
       "    </tr>\n",
       "    <tr>\n",
       "      <th>3</th>\n",
       "      <td>face_age\\068\\3688.png</td>\n",
       "      <td>68</td>\n",
       "      <td>6</td>\n",
       "      <td>6</td>\n",
       "    </tr>\n",
       "    <tr>\n",
       "      <th>4</th>\n",
       "      <td>face_age\\052\\2153.png</td>\n",
       "      <td>52</td>\n",
       "      <td>5</td>\n",
       "      <td>5</td>\n",
       "    </tr>\n",
       "    <tr>\n",
       "      <th>...</th>\n",
       "      <td>...</td>\n",
       "      <td>...</td>\n",
       "      <td>...</td>\n",
       "      <td>...</td>\n",
       "    </tr>\n",
       "    <tr>\n",
       "      <th>2929</th>\n",
       "      <td>face_age\\030\\904.png</td>\n",
       "      <td>30</td>\n",
       "      <td>3</td>\n",
       "      <td>1</td>\n",
       "    </tr>\n",
       "    <tr>\n",
       "      <th>2930</th>\n",
       "      <td>face_age\\001\\4732.png</td>\n",
       "      <td>1</td>\n",
       "      <td>0</td>\n",
       "      <td>0</td>\n",
       "    </tr>\n",
       "    <tr>\n",
       "      <th>2931</th>\n",
       "      <td>face_age\\052\\4300.png</td>\n",
       "      <td>52</td>\n",
       "      <td>5</td>\n",
       "      <td>1</td>\n",
       "    </tr>\n",
       "    <tr>\n",
       "      <th>2932</th>\n",
       "      <td>face_age\\001\\4038.png</td>\n",
       "      <td>1</td>\n",
       "      <td>0</td>\n",
       "      <td>0</td>\n",
       "    </tr>\n",
       "    <tr>\n",
       "      <th>2933</th>\n",
       "      <td>face_age\\001\\4561.png</td>\n",
       "      <td>1</td>\n",
       "      <td>0</td>\n",
       "      <td>0</td>\n",
       "    </tr>\n",
       "  </tbody>\n",
       "</table>\n",
       "<p>2934 rows × 4 columns</p>\n",
       "</div>"
      ],
      "text/plain": [
       "                  filepaths  age  target  predicted_label\n",
       "0     face_age\\009\\1693.png    9       1                3\n",
       "1     face_age\\056\\2723.png   56       5                5\n",
       "2     face_age\\001\\9456.png    1       0                0\n",
       "3     face_age\\068\\3688.png   68       6                6\n",
       "4     face_age\\052\\2153.png   52       5                5\n",
       "...                     ...  ...     ...              ...\n",
       "2929   face_age\\030\\904.png   30       3                1\n",
       "2930  face_age\\001\\4732.png    1       0                0\n",
       "2931  face_age\\052\\4300.png   52       5                1\n",
       "2932  face_age\\001\\4038.png    1       0                0\n",
       "2933  face_age\\001\\4561.png    1       0                0\n",
       "\n",
       "[2934 rows x 4 columns]"
      ]
     },
     "execution_count": 61,
     "metadata": {},
     "output_type": "execute_result"
    }
   ],
   "source": [
    "test_df"
   ]
  },
  {
   "cell_type": "code",
   "execution_count": 62,
   "metadata": {},
   "outputs": [],
   "source": [
    "age_ranges=['1--4','5--11','12--18','19--34','35--44','45--64','65--110']\n",
    "def age_range(predicted_label):\n",
    "    if predicted_label == 0:\n",
    "        return age_ranges[0]\n",
    "    elif predicted_label ==1:\n",
    "        return age_ranges[1]\n",
    "    elif predicted_label == 2:\n",
    "        return age_ranges[2]\n",
    "    elif  predicted_label ==3 :\n",
    "        return age_ranges[3]\n",
    "    elif predicted_label ==4:\n",
    "        return age_ranges[4]\n",
    "    elif predicted_label ==5:\n",
    "        return age_ranges[5]\n",
    "    else:\n",
    "        return age_ranges[6]"
   ]
  },
  {
   "cell_type": "code",
   "execution_count": 63,
   "metadata": {},
   "outputs": [],
   "source": [
    "test_df['pred_range'] = test_df['predicted_label'].map(age_range)"
   ]
  },
  {
   "cell_type": "code",
   "execution_count": 64,
   "metadata": {},
   "outputs": [],
   "source": [
    "test_df['original_range'] = test_df['target'].map(age_range)"
   ]
  },
  {
   "cell_type": "code",
   "execution_count": 65,
   "metadata": {},
   "outputs": [
    {
     "data": {
      "text/html": [
       "<div>\n",
       "<style scoped>\n",
       "    .dataframe tbody tr th:only-of-type {\n",
       "        vertical-align: middle;\n",
       "    }\n",
       "\n",
       "    .dataframe tbody tr th {\n",
       "        vertical-align: top;\n",
       "    }\n",
       "\n",
       "    .dataframe thead th {\n",
       "        text-align: right;\n",
       "    }\n",
       "</style>\n",
       "<table border=\"1\" class=\"dataframe\">\n",
       "  <thead>\n",
       "    <tr style=\"text-align: right;\">\n",
       "      <th></th>\n",
       "      <th>filepaths</th>\n",
       "      <th>age</th>\n",
       "      <th>target</th>\n",
       "      <th>predicted_label</th>\n",
       "      <th>pred_range</th>\n",
       "      <th>original_range</th>\n",
       "    </tr>\n",
       "  </thead>\n",
       "  <tbody>\n",
       "    <tr>\n",
       "      <th>0</th>\n",
       "      <td>face_age\\009\\1693.png</td>\n",
       "      <td>9</td>\n",
       "      <td>1</td>\n",
       "      <td>3</td>\n",
       "      <td>19--34</td>\n",
       "      <td>5--11</td>\n",
       "    </tr>\n",
       "    <tr>\n",
       "      <th>1</th>\n",
       "      <td>face_age\\056\\2723.png</td>\n",
       "      <td>56</td>\n",
       "      <td>5</td>\n",
       "      <td>5</td>\n",
       "      <td>45--64</td>\n",
       "      <td>45--64</td>\n",
       "    </tr>\n",
       "    <tr>\n",
       "      <th>2</th>\n",
       "      <td>face_age\\001\\9456.png</td>\n",
       "      <td>1</td>\n",
       "      <td>0</td>\n",
       "      <td>0</td>\n",
       "      <td>1--4</td>\n",
       "      <td>1--4</td>\n",
       "    </tr>\n",
       "    <tr>\n",
       "      <th>3</th>\n",
       "      <td>face_age\\068\\3688.png</td>\n",
       "      <td>68</td>\n",
       "      <td>6</td>\n",
       "      <td>6</td>\n",
       "      <td>65--110</td>\n",
       "      <td>65--110</td>\n",
       "    </tr>\n",
       "    <tr>\n",
       "      <th>4</th>\n",
       "      <td>face_age\\052\\2153.png</td>\n",
       "      <td>52</td>\n",
       "      <td>5</td>\n",
       "      <td>5</td>\n",
       "      <td>45--64</td>\n",
       "      <td>45--64</td>\n",
       "    </tr>\n",
       "    <tr>\n",
       "      <th>...</th>\n",
       "      <td>...</td>\n",
       "      <td>...</td>\n",
       "      <td>...</td>\n",
       "      <td>...</td>\n",
       "      <td>...</td>\n",
       "      <td>...</td>\n",
       "    </tr>\n",
       "    <tr>\n",
       "      <th>2929</th>\n",
       "      <td>face_age\\030\\904.png</td>\n",
       "      <td>30</td>\n",
       "      <td>3</td>\n",
       "      <td>1</td>\n",
       "      <td>5--11</td>\n",
       "      <td>19--34</td>\n",
       "    </tr>\n",
       "    <tr>\n",
       "      <th>2930</th>\n",
       "      <td>face_age\\001\\4732.png</td>\n",
       "      <td>1</td>\n",
       "      <td>0</td>\n",
       "      <td>0</td>\n",
       "      <td>1--4</td>\n",
       "      <td>1--4</td>\n",
       "    </tr>\n",
       "    <tr>\n",
       "      <th>2931</th>\n",
       "      <td>face_age\\052\\4300.png</td>\n",
       "      <td>52</td>\n",
       "      <td>5</td>\n",
       "      <td>1</td>\n",
       "      <td>5--11</td>\n",
       "      <td>45--64</td>\n",
       "    </tr>\n",
       "    <tr>\n",
       "      <th>2932</th>\n",
       "      <td>face_age\\001\\4038.png</td>\n",
       "      <td>1</td>\n",
       "      <td>0</td>\n",
       "      <td>0</td>\n",
       "      <td>1--4</td>\n",
       "      <td>1--4</td>\n",
       "    </tr>\n",
       "    <tr>\n",
       "      <th>2933</th>\n",
       "      <td>face_age\\001\\4561.png</td>\n",
       "      <td>1</td>\n",
       "      <td>0</td>\n",
       "      <td>0</td>\n",
       "      <td>1--4</td>\n",
       "      <td>1--4</td>\n",
       "    </tr>\n",
       "  </tbody>\n",
       "</table>\n",
       "<p>2934 rows × 6 columns</p>\n",
       "</div>"
      ],
      "text/plain": [
       "                  filepaths  age  target  predicted_label pred_range  \\\n",
       "0     face_age\\009\\1693.png    9       1                3     19--34   \n",
       "1     face_age\\056\\2723.png   56       5                5     45--64   \n",
       "2     face_age\\001\\9456.png    1       0                0       1--4   \n",
       "3     face_age\\068\\3688.png   68       6                6    65--110   \n",
       "4     face_age\\052\\2153.png   52       5                5     45--64   \n",
       "...                     ...  ...     ...              ...        ...   \n",
       "2929   face_age\\030\\904.png   30       3                1      5--11   \n",
       "2930  face_age\\001\\4732.png    1       0                0       1--4   \n",
       "2931  face_age\\052\\4300.png   52       5                1      5--11   \n",
       "2932  face_age\\001\\4038.png    1       0                0       1--4   \n",
       "2933  face_age\\001\\4561.png    1       0                0       1--4   \n",
       "\n",
       "     original_range  \n",
       "0             5--11  \n",
       "1            45--64  \n",
       "2              1--4  \n",
       "3           65--110  \n",
       "4            45--64  \n",
       "...             ...  \n",
       "2929         19--34  \n",
       "2930           1--4  \n",
       "2931         45--64  \n",
       "2932           1--4  \n",
       "2933           1--4  \n",
       "\n",
       "[2934 rows x 6 columns]"
      ]
     },
     "execution_count": 65,
     "metadata": {},
     "output_type": "execute_result"
    }
   ],
   "source": [
    "test_df"
   ]
  },
  {
   "cell_type": "code",
   "execution_count": 66,
   "metadata": {},
   "outputs": [
    {
     "data": {
      "text/plain": [
       "'face_age\\\\056\\\\2723.png'"
      ]
     },
     "execution_count": 66,
     "metadata": {},
     "output_type": "execute_result"
    }
   ],
   "source": [
    "test_df['filepaths'][1]"
   ]
  },
  {
   "cell_type": "code",
   "execution_count": 70,
   "metadata": {},
   "outputs": [
    {
     "name": "stdout",
     "output_type": "stream",
     "text": [
      "original age 45--64\n",
      "predicted age range 45--64\n"
     ]
    },
    {
     "data": {
      "text/plain": [
       "-1"
      ]
     },
     "execution_count": 70,
     "metadata": {},
     "output_type": "execute_result"
    }
   ],
   "source": [
    "import cv2\n",
    "image = cv2.imread(test_df['filepaths'][1],0)\n",
    "print(\"original age\",test_df['original_range'][1])\n",
    "print(\"predicted age range\",test_df['pred_range'][1])\n",
    "#gray = cv2.cvtColor(image, cv2.COLOR_BGR2GRAY)\n",
    "cv2.imshow('image', image)\n",
    "cv2.waitKey(0)"
   ]
  }
 ],
 "metadata": {
  "colab": {
   "provenance": []
  },
  "kernelspec": {
   "display_name": "Python 3",
   "language": "python",
   "name": "python3"
  },
  "language_info": {
   "codemirror_mode": {
    "name": "ipython",
    "version": 3
   },
   "file_extension": ".py",
   "mimetype": "text/x-python",
   "name": "python",
   "nbconvert_exporter": "python",
   "pygments_lexer": "ipython3",
   "version": "3.8.8"
  }
 },
 "nbformat": 4,
 "nbformat_minor": 1
}
